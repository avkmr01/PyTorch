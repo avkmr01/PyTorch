{
 "cells": [
  {
   "cell_type": "code",
   "execution_count": 6,
   "id": "73d984a4-8847-4a4c-8c9c-34736ad0cd2e",
   "metadata": {},
   "outputs": [],
   "source": [
    "import torch \n",
    "import torch.nn as nn\n",
    "import torch.optim as optim\n",
    "from PIL import Image\n",
    "import torchvision.transforms as transforms\n",
    "import torchvision.models as models\n",
    "from torchvision.utils import save_image"
   ]
  },
  {
   "cell_type": "code",
   "execution_count": 30,
   "id": "e1cb7523-2b14-4b2b-b5e0-8d210794334b",
   "metadata": {},
   "outputs": [],
   "source": [
    "class VGG(nn.Module):\n",
    "    def __init__(self):\n",
    "        super(VGG, self).__init__()\n",
    "        self.chosen_features =  [0, 5, 10, 19, 20]\n",
    "        self. model = models.vgg19(pretrained=True).features[:29]\n",
    "        \n",
    "    def forward(self, x):\n",
    "        features = []\n",
    "        for layer_idx, layer in enumerate(self.model):\n",
    "            x = layer(x)\n",
    "            if layer_idx in self.chosen_features:\n",
    "                features.append(x)\n",
    "                \n",
    "        return features\n",
    "    "
   ]
  },
  {
   "cell_type": "code",
   "execution_count": 11,
   "id": "c5eac799-71c0-4e1d-a965-6ed2565347d9",
   "metadata": {},
   "outputs": [],
   "source": [
    "def load_image(image_name):\n",
    "    image = Image.open(image_name)\n",
    "    image = loader(image).unsqueeze(0)\n",
    "    return image.to(device)"
   ]
  },
  {
   "cell_type": "markdown",
   "id": "cc5811de-19c2-4b74-875f-7ad2c6c969f4",
   "metadata": {},
   "source": [
    "original_img = first image  \n",
    "style_img = second image for providing texture"
   ]
  },
  {
   "cell_type": "code",
   "execution_count": null,
   "id": "70272ccf-b957-477f-82fd-17a36aa79849",
   "metadata": {},
   "outputs": [],
   "source": [
    "device = 'cuda:3'\n",
    "image_size = 356\n",
    "loader = transforms.Compose(\n",
    "    [\n",
    "        transforms.Resize((image_size, image_size)),\n",
    "        transforms.ToTensor()\n",
    "    ]\n",
    ")\n",
    "\n",
    "original_img = load_image('modern.jpg')\n",
    "style_img = load_image('old.jpeg')\n",
    "\n",
    "model = VGG().to(device).eval()\n",
    "\n",
    "generated = original_img.clone().requires_grad_(True)\n",
    "\n",
    "# Hyperparameters\n",
    "total_steps = 6000\n",
    "learnin_rate = 0.001\n",
    "alpha = 1\n",
    "beta = 0.01\n",
    "optimizer = optim.Adam([generated], lr=learnin_rate)\n",
    "\n",
    "for step in range(total_steps):\n",
    "    generated_features = model(generated)\n",
    "    original_img_features = model(original_img)\n",
    "    style_img_features = model(style_img)\n",
    "    \n",
    "    style_loss = original_loss = 0 \n",
    "    \n",
    "    for gen_feature, orig_feature, style_feature in zip(\n",
    "        generated_features, original_img_features, style_img_features\n",
    "    ):\n",
    "        batch_size, channel, height, width = gen_feature.shape\n",
    "        original_loss += torch.mean((gen_feature-orig_feature)**2)\n",
    "        \n",
    "        # Compute gram matrix\n",
    "        G = gen_feature.view(channel, height*width).mm(\n",
    "            gen_feature.view(channel, height*width).t()\n",
    "        )\n",
    "        \n",
    "        A = style_feature.view(channel, height*width).mm(\n",
    "            style_feature.view(channel, height*width).t()\n",
    "        )\n",
    "        \n",
    "        style_loss += torch.mean((G-A)**2)\n",
    "        \n",
    "    total_loss = alpha*original_loss + beta*style_loss\n",
    "    optimizer.zero_grad()\n",
    "    total_loss.backward()\n",
    "    optimizer.step()\n",
    "    \n",
    "    if step % 100 == 0:\n",
    "        save_image(generated, f\"generated{step}.png\")"
   ]
  },
  {
   "cell_type": "markdown",
   "id": "ce2b31d8-ac5e-4209-956a-5a7963886cae",
   "metadata": {},
   "source": [
    "__Making video out of these images__  \n",
    "video_name = name of the video in which you wanted to save the video of changing images"
   ]
  },
  {
   "cell_type": "code",
   "execution_count": 39,
   "id": "1d4c7ed8-7029-4488-bb9d-43932ab6b789",
   "metadata": {},
   "outputs": [],
   "source": [
    "import os\n",
    "import cv2\n",
    "video_name = 'test.avi'\n",
    "\n",
    "images = [img for img in os.listdir() if img.endswith(\".png\")]\n",
    "frame = cv2.imread(os.path.join(images[0]))\n",
    "height, width, layers = frame.shape\n",
    "\n",
    "video = cv2.VideoWriter(video_name, 0, 4, (width,height))\n",
    "\n",
    "for image in images:\n",
    "    video.write(cv2.imread(os.path.join(image)))\n",
    "\n",
    "# cv2.destroyAllWindows()\n",
    "video.release()"
   ]
  },
  {
   "cell_type": "code",
   "execution_count": null,
   "id": "61bc2e80-f29e-416a-babe-58b3cbf6aa6f",
   "metadata": {},
   "outputs": [],
   "source": []
  }
 ],
 "metadata": {
  "kernelspec": {
   "display_name": "Python 3 (ipykernel)",
   "language": "python",
   "name": "python3"
  },
  "language_info": {
   "codemirror_mode": {
    "name": "ipython",
    "version": 3
   },
   "file_extension": ".py",
   "mimetype": "text/x-python",
   "name": "python",
   "nbconvert_exporter": "python",
   "pygments_lexer": "ipython3",
   "version": "3.10.5"
  }
 },
 "nbformat": 4,
 "nbformat_minor": 5
}
