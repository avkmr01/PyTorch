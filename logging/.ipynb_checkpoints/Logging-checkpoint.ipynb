{
 "cells": [
  {
   "cell_type": "markdown",
   "id": "2218a450-ccca-4917-a203-d7ca0db84688",
   "metadata": {},
   "source": [
    "__Logging to a file__"
   ]
  },
  {
   "cell_type": "code",
   "execution_count": null,
   "id": "0dd0cd55-7308-40e7-870c-aead7f31aaa5",
   "metadata": {},
   "outputs": [],
   "source": [
    "import logging\n",
    "logging.warning('Watch out!')  # will print a message to the console\n",
    "logging.info('I told you so')  # will not print anything"
   ]
  },
  {
   "cell_type": "code",
   "execution_count": null,
   "id": "9d920add-37b4-44fb-ade2-a5681bb8d064",
   "metadata": {
    "tags": []
   },
   "outputs": [],
   "source": [
    "import logging\n",
    "logging.basicConfig(filename='example.log', encoding='utf-8', level=logging.DEBUG)\n",
    "logging.debug('This message should go to the log file')\n",
    "logging.info('So should this')\n",
    "logging.warning('And this, too')\n",
    "logging.error('And non-ASCII stuff, too, like Øresund and Malmö')"
   ]
  },
  {
   "cell_type": "code",
   "execution_count": null,
   "id": "d36b40fb-2f2e-47b2-bf14-210025775fa9",
   "metadata": {},
   "outputs": [],
   "source": [
    "!cat example.log"
   ]
  },
  {
   "cell_type": "code",
   "execution_count": null,
   "id": "c2e3bca5-0b1b-48f4-8ab0-36e00f0e7f57",
   "metadata": {},
   "outputs": [],
   "source": [
    "import logging\n",
    "print(logging.BASIC_FORMAT)"
   ]
  },
  {
   "cell_type": "code",
   "execution_count": null,
   "id": "5c7fea70-0c2f-425f-898b-ae3e4762b776",
   "metadata": {},
   "outputs": [],
   "source": [
    "logging.basicConfig(filename='example.log', filemode='w', level=logging.DEBUG)"
   ]
  },
  {
   "cell_type": "markdown",
   "id": "009e5804-09a8-410b-9586-ea19071310c4",
   "metadata": {},
   "source": [
    "__Logging from multiple modules__"
   ]
  },
  {
   "cell_type": "code",
   "execution_count": null,
   "id": "2c730758-6fb1-4f08-b130-823a38fc4ed1",
   "metadata": {},
   "outputs": [],
   "source": [
    "import logging\n",
    "import mylib\n",
    "\n",
    "def main():\n",
    "    logging.basicConfig(filename='myapp.log', level=logging.INFO)\n",
    "    logging.info('Started')\n",
    "    mylib.do_something()\n",
    "    logging.info('Finished')\n",
    "\n",
    "if __name__ == '__main__':\n",
    "    main()"
   ]
  },
  {
   "cell_type": "markdown",
   "id": "d8706011-8bc9-46f3-9f9e-8b6aed48866c",
   "metadata": {},
   "source": [
    "__Logging variable data__"
   ]
  },
  {
   "cell_type": "code",
   "execution_count": null,
   "id": "0b3c9473-96d6-477b-9eff-793b2c67fb42",
   "metadata": {},
   "outputs": [],
   "source": [
    "import logging\n",
    "logging.warning('%s before you %s', 'Look', 'leap!')"
   ]
  },
  {
   "cell_type": "markdown",
   "id": "a18c39dd-4198-41ea-a9ff-6e3211165f82",
   "metadata": {},
   "source": [
    "__Changing the format of displayed messages__"
   ]
  },
  {
   "cell_type": "code",
   "execution_count": null,
   "id": "d20916e9-97fa-4af1-9a98-42f587c6a862",
   "metadata": {},
   "outputs": [],
   "source": [
    "import logging\n",
    "logging.basicConfig(format='%(levelname)s:%(message)s', level=logging.DEBUG)\n",
    "logging.debug('This message should appear on the console')\n",
    "logging.info('So should this')\n",
    "logging.warning('And this, too')"
   ]
  },
  {
   "cell_type": "markdown",
   "id": "828570dd-d419-436b-b849-6028a46a195e",
   "metadata": {},
   "source": [
    "__Displaying the date/time in messages__"
   ]
  },
  {
   "cell_type": "code",
   "execution_count": null,
   "id": "b8540d89-0e39-448a-80e0-735b60eeb21a",
   "metadata": {},
   "outputs": [],
   "source": [
    "import logging\n",
    "logging.basicConfig(format='%(asctime)s %(levelname)s:%(message)s') # default format for date and time ISO8601 or RFC 3339\n",
    "logging.warning('is when this event was logged.')"
   ]
  },
  {
   "cell_type": "code",
   "execution_count": null,
   "id": "d2bb2988-3c9f-4f63-982f-5da1de84e16b",
   "metadata": {},
   "outputs": [],
   "source": [
    "import logging\n",
    "logging.basicConfig(format='%(asctime)s %(message)s', datefmt='%m/%d/%Y %I:%M:%S %p')\n",
    "logging.warning('is when this event was logged.')"
   ]
  },
  {
   "cell_type": "markdown",
   "id": "e1060814-74cd-441a-ac5f-bb821e50721f",
   "metadata": {},
   "source": [
    "__Advanced Logging__"
   ]
  },
  {
   "cell_type": "markdown",
   "id": "d58698d0-d926-4e08-836d-a0a161fc2c1d",
   "metadata": {},
   "source": [
    "__Loggers__"
   ]
  },
  {
   "cell_type": "code",
   "execution_count": null,
   "id": "d31bad31-29a7-4add-9d87-69854cdfd5ec",
   "metadata": {},
   "outputs": [],
   "source": [
    "import logging\n",
    "\n",
    "# create logger\n",
    "logger = logging.getLogger('simple_example')\n",
    "logger.setLevel(logging.DEBUG)\n",
    "\n",
    "# create console handler and set level to debug\n",
    "ch = logging.StreamHandler()\n",
    "ch.setLevel(logging.DEBUG)\n",
    "\n",
    "# create formatter\n",
    "formatter = logging.Formatter('%(asctime)s - %(name)s - %(levelname)s - %(message)s')\n",
    "\n",
    "# add formatter to ch\n",
    "ch.setFormatter(formatter)\n",
    "\n",
    "# add ch to logger\n",
    "logger.addHandler(ch)\n",
    "\n",
    "# 'application' code\n",
    "logger.debug('debug message')\n",
    "logger.info('info message')\n",
    "logger.warning('warn message')\n",
    "logger.error('error message')\n",
    "logger.critical('critical message')"
   ]
  },
  {
   "cell_type": "code",
   "execution_count": null,
   "id": "99f75872-dce2-44c4-8dc6-9ffccf704155",
   "metadata": {},
   "outputs": [],
   "source": [
    "import logging\n",
    "import logging.config\n",
    "\n",
    "logging.config.fileConfig('logging.conf')\n",
    "\n",
    "# create logger\n",
    "logger = logging.getLogger('simpleExample')\n",
    "\n",
    "# 'application' code\n",
    "logger.debug('debug message')\n",
    "logger.info('info message')\n",
    "logger.warning('warn message')\n",
    "logger.error('error message')\n",
    "logger.critical('critical message')"
   ]
  },
  {
   "cell_type": "code",
   "execution_count": null,
   "id": "6f1ca5f3-0988-4ec8-aefb-815d816b93c3",
   "metadata": {},
   "outputs": [],
   "source": [
    "import logging\n",
    "import yaml\n",
    "import logging.config\n",
    "\n",
    "with open('logging.yaml', 'r') as stream:\n",
    "    config = yaml.load(stream, Loader=yaml.FullLoader)\n",
    "\n",
    "\n",
    "logging.config.dictConfig(config)\n",
    "\n",
    "# create logger\n",
    "logger = logging.getLogger('simpleExample')\n",
    "\n",
    "# 'application' code\n",
    "logger.debug('debug message')\n",
    "logger.info('info message')\n",
    "logger.warning('warn message')\n",
    "logger.error('error message')\n",
    "logger.critical('critical message')"
   ]
  },
  {
   "cell_type": "code",
   "execution_count": null,
   "id": "d86fb0e2-d84e-4f8d-ae50-cb48290bc942",
   "metadata": {},
   "outputs": [],
   "source": []
  }
 ],
 "metadata": {
  "kernelspec": {
   "display_name": "Python 3 (ipykernel)",
   "language": "python",
   "name": "python3"
  },
  "language_info": {
   "codemirror_mode": {
    "name": "ipython",
    "version": 3
   },
   "file_extension": ".py",
   "mimetype": "text/x-python",
   "name": "python",
   "nbconvert_exporter": "python",
   "pygments_lexer": "ipython3",
   "version": "3.10.5"
  }
 },
 "nbformat": 4,
 "nbformat_minor": 5
}
