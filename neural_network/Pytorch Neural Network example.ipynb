{
 "cells": [
  {
   "cell_type": "markdown",
   "id": "724da583-0fd8-44d9-b566-38fccc4db52f",
   "metadata": {},
   "source": []
  },
  {
   "cell_type": "raw",
   "id": "55583ff9-e7ae-4161-8576-18403e3c1a2a",
   "metadata": {},
   "source": [
    "# imports\n",
    "# created fully connected neural network\n",
    "# set device\n",
    "# hyperparameter\n",
    "# load data\n",
    "# initialize network\n",
    "# loss and optimizer\n",
    "# train network\n",
    "# check accuracy and test"
   ]
  },
  {
   "cell_type": "code",
   "execution_count": 336,
   "id": "67eb7f73-ea22-442a-af1a-e6dc8add6a96",
   "metadata": {},
   "outputs": [],
   "source": [
    "# imports\n",
    "\n",
    "import torch\n",
    "import torch.nn as nn\n",
    "import torch.optim as optim\n",
    "import torch.nn.functional as F\n",
    "from torch.utils.data import DataLoader\n",
    "import torchvision.datasets as datasets\n",
    "import torchvision.transforms as transforms\n",
    "import torchvision"
   ]
  },
  {
   "cell_type": "code",
   "execution_count": 132,
   "id": "38144e9d-347a-409b-bf41-f938c0c59049",
   "metadata": {},
   "outputs": [],
   "source": [
    "# created fully connected neural network\n",
    "class NN(nn.Module):\n",
    "    def __init__(self, input_size, num_classes):\n",
    "        super(NN, self).__init__()\n",
    "        self.fc1 = nn.Linear(input_size, 50)\n",
    "        self.fc2 = nn.Linear(50, num_classes)\n",
    "        \n",
    "    def forward(self, x):\n",
    "        x = F.relu(self.fc1(x))\n",
    "        x = self.fc2(x)\n",
    "        return x\n",
    "    \n",
    "# model = NN(784,10)\n",
    "# x = torch.randn((10,784))\n",
    "# y = model(x)\n",
    "# y"
   ]
  },
  {
   "cell_type": "code",
   "execution_count": 133,
   "id": "29a521cf-b9d1-403b-93f1-00beef2126ba",
   "metadata": {},
   "outputs": [],
   "source": [
    "# created convolutional neural network\n",
    "class CNN(nn.Module):\n",
    "    def __init__(self, in_channel = 1, num_classes = 10):\n",
    "        super(CNN, self).__init__()\n",
    "        self.conv1 = nn.Conv2d(in_channels=in_channel, out_channels=8, kernel_size=(3,3), stride=(1,1), padding=(1,1))\n",
    "        self.pool = nn.MaxPool2d(kernel_size=(2,2), stride=(2,2)) \n",
    "        self.conv2 = nn.Conv2d(in_channels=8, out_channels=16, kernel_size=(3,3), stride=(1,1), padding=(1,1))\n",
    "        self.fc1 = nn.Linear(16*7*7, num_classes)\n",
    "        \n",
    "    def forward(self, x):\n",
    "        x = F.relu(self.conv1(x))\n",
    "        x = self.pool(x)\n",
    "        x = F.relu(self.conv2(x))\n",
    "        x = self.pool(x)\n",
    "        x = x.reshape(x.shape[0], -1)\n",
    "        x = self.fc1(x)\n",
    "        \n",
    "        return x\n",
    "    \n",
    "# model = CNN()\n",
    "# x = torch.randn((10,1,28,28))\n",
    "# y = model(x)\n",
    "# y"
   ]
  },
  {
   "cell_type": "code",
   "execution_count": 177,
   "id": "a567cf36-c492-40f7-acd8-6b1417b69661",
   "metadata": {},
   "outputs": [],
   "source": [
    "# created recurrent neural network\n",
    "class RNN(nn.Module):\n",
    "    def __init__(self, input_size, hidden_size, num_layers, num_classes):\n",
    "        super(RNN, self).__init__()\n",
    "        self.hidden_size = hidden_size\n",
    "        self.num_layers = num_layers\n",
    "        self.rnn = nn.RNN(input_size, hidden_size, num_layers, batch_first=True)\n",
    "        self.fc = nn.Linear(hidden_size*sequence_length, num_classes)\n",
    "        \n",
    "    def forward(self, x):\n",
    "        h0 = torch.zeros(self.num_layers, x.size(0), self.hidden_size).to(device)\n",
    "        \n",
    "        # forward prop\n",
    "        out, _ = self.rnn(x, h0)\n",
    "        out = out.reshape(out.shape[0], -1)\n",
    "        out = self.fc(out)\n",
    "        return out"
   ]
  },
  {
   "cell_type": "code",
   "execution_count": 196,
   "id": "7e2d24e4-aceb-4163-ba16-52274e70dfb0",
   "metadata": {},
   "outputs": [],
   "source": [
    "# created gated recurrent neural network\n",
    "class GRU(nn.Module):\n",
    "    def __init__(self, input_size, hidden_size, num_layers, num_classes):\n",
    "        super(GRU, self).__init__()\n",
    "        self.hidden_size = hidden_size\n",
    "        self.num_layers = num_layers\n",
    "        self.gru = nn.GRU(input_size, hidden_size, num_layers, batch_first=True)\n",
    "        self.fc = nn.Linear(hidden_size*sequence_length, num_classes)\n",
    "        \n",
    "    def forward(self, x):\n",
    "        h0 = torch.zeros(self.num_layers, x.size(0), self.hidden_size).to(device)\n",
    "        \n",
    "        # forward prop\n",
    "        out, _ = self.gru(x, h0)\n",
    "        out = out.reshape(out.shape[0], -1)\n",
    "        out = self.fc(out)\n",
    "        return out"
   ]
  },
  {
   "cell_type": "code",
   "execution_count": 215,
   "id": "502294d0-4a4c-4d00-89c6-97e7a6725e6b",
   "metadata": {},
   "outputs": [],
   "source": [
    "# created bidirectional LSTM\n",
    "class BRNN(nn.Module):\n",
    "    def __init__(self, input_size, hidden_size, num_layers, num_classes):\n",
    "        super(BRNN, self).__init__()\n",
    "        self.hidden_size = hidden_size\n",
    "        self.num_layers = num_layers\n",
    "        self.lstm = nn.LSTM(input_size, hidden_size, num_layers, batch_first=True, bidirectional=True)\n",
    "        self.fc = nn.Linear(hidden_size*2, num_classes)\n",
    "        \n",
    "    def forward(self, x):\n",
    "        h0 = torch.zeros(self.num_layers*2, x.size(0), self.hidden_size).to(device)\n",
    "        c0 = torch.zeros(self.num_layers*2, x.size(0), self.hidden_size).to(device)\n",
    "        \n",
    "        # forward prop\n",
    "        out, _ = self.lstm(x, (h0,c0))\n",
    "        out = self.fc(out[:, -1, :])\n",
    "        return out"
   ]
  },
  {
   "cell_type": "code",
   "execution_count": null,
   "id": "e653fe33-7168-47e1-894c-94525d5b783a",
   "metadata": {},
   "outputs": [],
   "source": [
    "# save model\n",
    "def save_checkpoint(state, filename = 'my_checkpoint.pth.tar'):\n",
    "    \n",
    "    print(f\"saving checkpoint {i}\")\n",
    "    torch.save(state, filename)\n",
    "    i = i+1\n",
    "    \n",
    "# load model\n",
    "def load_model(checkpoint):\n",
    "    print(f\"loading checkpoint\")\n",
    "    model.load_state_dict(checkpoint['state_dict'])\n",
    "    optimizer.load_state_dict(checkpoint['optimizer'])\n",
    "    "
   ]
  },
  {
   "cell_type": "code",
   "execution_count": 216,
   "id": "4a19d27e-7e91-4721-bfe9-0eba3eeca823",
   "metadata": {},
   "outputs": [],
   "source": [
    "# select device\n",
    "device = torch.device('cuda:3' if torch.cuda.is_available() else 'cpu')"
   ]
  },
  {
   "cell_type": "code",
   "execution_count": 217,
   "id": "c0c71154-fa78-4c05-9034-ad7459da00ef",
   "metadata": {},
   "outputs": [],
   "source": [
    "# hyperparameters\n",
    "# input_size = 784   # for FCN\n",
    "# in_channel = 1     # for CNN\n",
    "input_size = 28      # for RNN\n",
    "sequence_length = 28 # for RNN\n",
    "num_layers = 2       # for RNN\n",
    "hidden_size = 256    # for RNN\n",
    "num_classes = 10\n",
    "learning_rate = 0.001\n",
    "batch_size = 64\n",
    "num_epochs = 5\n",
    "i = 0                # numbering the checkpoint"
   ]
  },
  {
   "cell_type": "code",
   "execution_count": 246,
   "id": "bbc630e9-31cf-4172-aa1d-451d9c15be49",
   "metadata": {},
   "outputs": [],
   "source": [
    "# load data\n",
    "# train_dataset = datasets.MNIST(root='dataset/', train=True, transform = transforms.Compose([transforms.ToTensor(), transforms.Resize((224,224))]), download = True)\n",
    "# train_loader = DataLoader(dataset = train_dataset, batch_size = batch_size, shuffle = True) \n",
    "# test_dataset = datasets.MNIST(root='dataset/', train=False, transform = transforms.Compose([transforms.ToTensor(), transforms.Resize((224,224))]), download = True)\n",
    "# test_loader = DataLoader(dataset = test_dataset, batch_size = batch_size, shuffle = True)"
   ]
  },
  {
   "cell_type": "code",
   "execution_count": 363,
   "id": "c2dc6691-7546-4165-81c5-7a2dd1a06d5b",
   "metadata": {},
   "outputs": [],
   "source": [
    "    # initialize network\n",
    "    # model = NN(input_size=input_size, num_classes=num_classes).to(device)    # for FCN\n",
    "    # model = CNN().to(device)                                                 # for CNN\n",
    "    # model = RNN(input_size, hidden_size, num_layers, num_classes).to(device) # for RNN\n",
    "    # model = GRU(input_size, hidden_size, num_layers, num_classes).to(device) # for GRU\n",
    "    # model = BRNN(input_size, hidden_size, num_layers, num_classes).to(device)# for bidirectional lstm\n",
    "model = torchvision.models.vgg16(pretrained=True,)\n",
    "model.features[0] = nn.Conv2d(in_channels=3, out_channels=64, kernel_size=(3, 3), stride=(1, 1), padding=(1, 1), )\n",
    "model.avgpool = Identity()\n",
    "model.classifier[6] = nn.Linear(in_features=4096, out_features=2, bias=True)\n",
    "model = model.to(device)\n"
   ]
  },
  {
   "cell_type": "code",
   "execution_count": 364,
   "id": "433ed452-32fe-4e5c-b5f3-7309b71411b8",
   "metadata": {},
   "outputs": [],
   "source": [
    "# loss and optimizer\n",
    "criterion = nn.CrossEntropyLoss()\n",
    "optimizer = optim.Adam(model.parameters(), lr=learning_rate)"
   ]
  },
  {
   "cell_type": "code",
   "execution_count": 365,
   "id": "017facaf-5fa9-4286-b352-e5f5860293cd",
   "metadata": {},
   "outputs": [],
   "source": [
    "# train network\n",
    "for epoch in range(num_epochs):\n",
    "    for batch_idx, (data, targets) in enumerate(train_loader):\n",
    "        # get data to cuda if possible\n",
    "        data = data.to(device=device)           # for FCN, CNN and RNN\n",
    "        # data = data.to(device=device).squeeze(1)  # for GRU\n",
    "        \n",
    "        targets = targets.to(device=device)\n",
    "        # get to correct shape\n",
    "        # data = data.reshape(data.shape[0], -1)  # for FCN \n",
    "        \n",
    "        # forward\n",
    "        scores = model(data)\n",
    "        loss = criterion(scores, targets)\n",
    "        \n",
    "        # backward\n",
    "        optimizer.zero_grad()\n",
    "        loss.backward()\n",
    "        \n",
    "        # gradient or adam step\n",
    "        optimizer.step()"
   ]
  },
  {
   "cell_type": "code",
   "execution_count": 371,
   "id": "73c3132a-6b0e-40e6-8e93-7abdf86fa0c8",
   "metadata": {},
   "outputs": [],
   "source": [
    "# check accuracy in training and test to see how good our model is\n",
    "def check_accuracy(loader, model):\n",
    "    # if loader.dataset.train:\n",
    "    #     print('Checking accuracy for training data')\n",
    "    # else:\n",
    "    #     print('Checking accuracy for testing data')\n",
    "    num_correct = 0\n",
    "    num_samples = 0\n",
    "    model.eval()\n",
    "    \n",
    "    with torch.no_grad():\n",
    "        for x, y in loader:\n",
    "            x = x.to(device = device)             # for FCN, CNN and RNN\n",
    "            # x = x.to(device = device).squeeze(1)    # for GRU\n",
    "            y = y.to(device = device)\n",
    "            \n",
    "            # x = x.reshape(x.shape[0], -1)         # for FCN\n",
    "            scores = model(x)\n",
    "            \n",
    "            _, predictions = scores.max(1)\n",
    "            num_correct += (predictions == y).sum()\n",
    "            num_samples += predictions.size(0)\n",
    "        print(f'accuracy is {float(num_correct)*100/float(num_samples):.2f}')\n",
    "    \n",
    "    model.train()"
   ]
  },
  {
   "cell_type": "code",
   "execution_count": 372,
   "id": "ca3fc8df-e4f6-47ce-8fe9-f338a4c53d0b",
   "metadata": {},
   "outputs": [
    {
     "name": "stdout",
     "output_type": "stream",
     "text": [
      "accuracy is 49.91\n",
      "accuracy is 50.36\n"
     ]
    }
   ],
   "source": [
    "check_accuracy(train_loader, model)\n",
    "check_accuracy(test_loader, model)"
   ]
  },
  {
   "cell_type": "code",
   "execution_count": null,
   "id": "c7e1dbd1-f194-49d4-a01d-a01c8800e76e",
   "metadata": {},
   "outputs": [],
   "source": []
  }
 ],
 "metadata": {
  "kernelspec": {
   "display_name": "Python 3 (ipykernel)",
   "language": "python",
   "name": "python3"
  },
  "language_info": {
   "codemirror_mode": {
    "name": "ipython",
    "version": 3
   },
   "file_extension": ".py",
   "mimetype": "text/x-python",
   "name": "python",
   "nbconvert_exporter": "python",
   "pygments_lexer": "ipython3",
   "version": "3.10.5"
  }
 },
 "nbformat": 4,
 "nbformat_minor": 5
}
