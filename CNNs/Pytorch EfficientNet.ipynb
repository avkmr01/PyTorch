{
 "cells": [
  {
   "cell_type": "code",
   "execution_count": 1,
   "id": "936fdf59-ab6a-4adb-85d5-7c0fd865bc66",
   "metadata": {},
   "outputs": [],
   "source": [
    "import torch \n",
    "import torch.nn as nn\n",
    "from math import ceil"
   ]
  },
  {
   "cell_type": "code",
   "execution_count": 5,
   "id": "5f59af2e-ec79-4348-9ff4-9f0b76215235",
   "metadata": {},
   "outputs": [],
   "source": [
    "base_model = [\n",
    "    # expand ratio, channels, repeats, stride, kernel size\n",
    "    [1,16,1,1,3],\n",
    "    [6,24,2,2,3],\n",
    "    [6,40,2,2,5],\n",
    "    [6,80,3,2,3],\n",
    "    [6,112,3,1,5],\n",
    "    [6,192,4,2,5],\n",
    "    [6,320,1,1,3]\n",
    "]\n",
    "\n",
    "phi_values = {\n",
    "    # tuple of : (phi_value, resolution, drop_rate)\n",
    "    \"b0\" : (0,224,0.2),\n",
    "    \"b1\" : (0.5,240,0.2),\n",
    "    \"b2\" : (1,260,0.3),\n",
    "    \"b3\" : (2,300,0.3),\n",
    "    \"b4\" : (3,380,0.4),\n",
    "    \"b5\" : (4,456,0.4),\n",
    "    \"b6\" : (5,528,0.5),\n",
    "    \"b7\" : (6,600,0.5),\n",
    "}"
   ]
  },
  {
   "cell_type": "code",
   "execution_count": 27,
   "id": "9e8b668c-c14b-4d37-ad6b-392a78473b8e",
   "metadata": {},
   "outputs": [],
   "source": [
    "class CNNBlock(nn.Module):\n",
    "    def __init__(self, in_channels, out_channels, kernel_size, stride, padding, groups=1, bias=False):\n",
    "        super(CNNBlock, self).__init__()\n",
    "        self.cnn = nn.Conv2d(in_channels, out_channels, kernel_size, stride, padding, groups=groups)\n",
    "        self.bn = nn.BatchNorm2d(out_channels)\n",
    "        self.silu = nn.SiLU()\n",
    "        \n",
    "    def forward(self, x):\n",
    "        return self.silu(self.bn(self.cnn(x)))"
   ]
  },
  {
   "cell_type": "code",
   "execution_count": 28,
   "id": "a2765e2b-d1a5-4250-9122-4466c7f8a3a6",
   "metadata": {},
   "outputs": [],
   "source": [
    "class SqueezeExcitation(nn.Module):\n",
    "    def __init__(self, in_channels, reduced_dims):\n",
    "        super(SqueezeExcitation, self).__init__()\n",
    "        self.se = nn.Sequential(\n",
    "            nn.AdaptiveAvgPool2d(1),\n",
    "            nn.Conv2d(in_channels, reduced_dims, kernel_size=1),\n",
    "            nn.SiLU(),\n",
    "            nn.Conv2d(reduced_dims, in_channels, kernel_size=1),\n",
    "            nn.Sigmoid()\n",
    "        )\n",
    "        \n",
    "    def forward(self, x):\n",
    "        return x*self.se(x)"
   ]
  },
  {
   "cell_type": "code",
   "execution_count": 52,
   "id": "c8532421-e95d-4376-aa81-fb1da8e2f9e3",
   "metadata": {},
   "outputs": [],
   "source": [
    "class InvertedResidualBlock(nn.Module):\n",
    "    def __init__(self, in_channels, out_channels, kernel_size, stride, padding, expand_ratio, reduction=4, survival_prob=0.8):\n",
    "        super(InvertedResidualBlock, self).__init__()\n",
    "        self.survival_prob = survival_prob\n",
    "        self.use_residual = in_channels==out_channels and stride==1\n",
    "        hidden_dim = in_channels*expand_ratio\n",
    "        self.expand = in_channels != hidden_dim\n",
    "        reduced_dim = int(in_channels/reduction)\n",
    "        \n",
    "        if self.expand:\n",
    "            self.expand_conv = CNNBlock(in_channels, hidden_dim, kernel_size=3, stride=1, padding=1)\n",
    "        \n",
    "        self.conv = nn.Sequential(\n",
    "            CNNBlock(hidden_dim, hidden_dim, kernel_size, stride, padding, groups=hidden_dim),\n",
    "            SqueezeExcitation(hidden_dim, reduced_dim),\n",
    "            nn.Conv2d(hidden_dim, out_channels, 1, bias=False),\n",
    "            nn.BatchNorm2d(out_channels)\n",
    "        )\n",
    "        \n",
    "    def stochastic_depth(self, x):\n",
    "        if not self.training:\n",
    "            return x\n",
    "        \n",
    "        binary_tensor = torch.rand(x.shape[0],1,1,1, device=x.device) < self.survival_prob\n",
    "        return torch.div(x, self.survival_prob)*binary_tensor\n",
    "    \n",
    "    def forward(self, inputs):\n",
    "        x = self.expand_conv(inputs) if self.expand else inputs\n",
    "        \n",
    "        if self.use_residual:\n",
    "            return self.stochastic_depth(self.conv(x))+inputs\n",
    "        else:\n",
    "            return self.conv(x)\n",
    "    "
   ]
  },
  {
   "cell_type": "code",
   "execution_count": 74,
   "id": "37fa6f2b-72c3-476a-aa9c-efda376f2089",
   "metadata": {},
   "outputs": [],
   "source": [
    "class EfficientNet(nn.Module):\n",
    "    def __init__(self, version, num_classes):\n",
    "        super(EfficientNet, self).__init__()\n",
    "        width_factor, depth_factor, dropout_rate = self.calculate_factors(version)\n",
    "        last_channels = ceil(1280*width_factor)\n",
    "        self.pool = nn.AdaptiveAvgPool2d(1)\n",
    "        self.features = self.create_features(width_factor, depth_factor, last_channels)\n",
    "        self.classifier = nn.Sequential(\n",
    "            nn.Dropout(dropout_rate),\n",
    "            nn.Linear(last_channels, num_classes)\n",
    "        )\n",
    "        \n",
    "    def calculate_factors(self, version, alpha=1.2, beta=1.1):\n",
    "        phi, res, dropout_rate = phi_values[version]\n",
    "        depth_factor = alpha**phi\n",
    "        width_factor = beta**phi\n",
    "        return width_factor, depth_factor, dropout_rate\n",
    "    \n",
    "    def create_features(self, width_factor, depth_factor, last_channels):\n",
    "        channels = int(32*width_factor)\n",
    "        features = [CNNBlock(3, channels, 3, stride=2, padding=1)]\n",
    "        in_channels = channels\n",
    "        \n",
    "        for expand_ratio, channels, repeats, stride, kernel_size in base_model:\n",
    "            out_channels = 4*ceil(int(channels*width_factor)/4)\n",
    "            layer_repeats = ceil(repeats*depth_factor)\n",
    "            for layer in range(layer_repeats):\n",
    "                features.append(\n",
    "                    InvertedResidualBlock(\n",
    "                        in_channels,\n",
    "                        out_channels,\n",
    "                        expand_ratio = expand_ratio,\n",
    "                        stride = stride if layer==0 else 1,\n",
    "                        kernel_size = kernel_size,\n",
    "                        padding = kernel_size//2\n",
    "                    )\n",
    "                )\n",
    "                \n",
    "                in_channels =out_channels\n",
    "                \n",
    "        features.append(CNNBlock(in_channels, last_channels, kernel_size=1, stride=1, padding=0))\n",
    "        \n",
    "        return nn.Sequential(*features)\n",
    "    \n",
    "    def forward(self, x):\n",
    "        x = self.pool(self.features(x))\n",
    "        return self.classifier(x.reshape(x.shape[0], -1))"
   ]
  },
  {
   "cell_type": "code",
   "execution_count": 75,
   "id": "07678497-bbda-43f7-b439-848f8d0c47d8",
   "metadata": {},
   "outputs": [],
   "source": [
    "def test():\n",
    "    device = 'cpu'\n",
    "    version = \"b0\"\n",
    "    phi, res, drop_rate = phi_values[version]\n",
    "    num_examples, num_classes = 4, 10\n",
    "    x = torch.randn(num_examples, 3, res, res).to(device)\n",
    "    model = EfficientNet(version, num_classes).to(device)\n",
    "    \n",
    "    print(model(x).shape)"
   ]
  },
  {
   "cell_type": "code",
   "execution_count": 76,
   "id": "78bfe10d-72c0-4d77-8ce7-6ea290ed3d91",
   "metadata": {},
   "outputs": [
    {
     "name": "stdout",
     "output_type": "stream",
     "text": [
      "torch.Size([4, 10])\n"
     ]
    }
   ],
   "source": [
    "test()"
   ]
  },
  {
   "cell_type": "code",
   "execution_count": null,
   "id": "e32ed4b7-a339-49c7-92f2-cca8b40a2328",
   "metadata": {},
   "outputs": [],
   "source": []
  }
 ],
 "metadata": {
  "kernelspec": {
   "display_name": "Python 3 (ipykernel)",
   "language": "python",
   "name": "python3"
  },
  "language_info": {
   "codemirror_mode": {
    "name": "ipython",
    "version": 3
   },
   "file_extension": ".py",
   "mimetype": "text/x-python",
   "name": "python",
   "nbconvert_exporter": "python",
   "pygments_lexer": "ipython3",
   "version": "3.10.5"
  }
 },
 "nbformat": 4,
 "nbformat_minor": 5
}
