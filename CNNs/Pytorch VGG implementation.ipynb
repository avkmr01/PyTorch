{
 "cells": [
  {
   "cell_type": "code",
   "execution_count": 3,
   "id": "df24ee6e-867c-43ba-842b-d6b7e5480bde",
   "metadata": {},
   "outputs": [],
   "source": [
    "import torch \n",
    "import torch.nn as nn\n",
    "from torch.utils.data import DataLoader\n",
    "from torchvision import datasets"
   ]
  },
  {
   "cell_type": "code",
   "execution_count": 4,
   "id": "2090e131-fae1-4fbb-bf59-2ccb82f6287b",
   "metadata": {},
   "outputs": [],
   "source": [
    "VGG16 = [64,64,'M',128,128,'M',256,256,256,'M',512,512,512,'M',512,512,512,'M']"
   ]
  },
  {
   "cell_type": "code",
   "execution_count": 23,
   "id": "c640bac6-e6d2-4b97-ae45-4ec67ae89425",
   "metadata": {},
   "outputs": [],
   "source": [
    "class VGG_net(nn.Module):\n",
    "    def __init__(self, in_channels=3, num_classes = 1000):\n",
    "        super(VGG_net, self).__init__()\n",
    "        self.in_channels = in_channels\n",
    "        self.conv_layers = self.create_conv_layer(VGG16)\n",
    "        self.fcs = nn.Sequential(\n",
    "                                    nn.Linear(512*7*7,4096),\n",
    "                                    nn.ReLU(),\n",
    "                                    nn.Dropout(0.5),\n",
    "                                    nn.Linear(4096,4096),\n",
    "                                    nn.ReLU(),\n",
    "                                    nn.Dropout(0.5),\n",
    "                                    nn.Linear(4096,num_classes)\n",
    "                                )\n",
    "        \n",
    "    def forward(self,x):\n",
    "        x = self.conv_layers(x)\n",
    "        x = x.reshape(x.shape[0], -1)\n",
    "        x = self.fcs(x)\n",
    "        \n",
    "        return x\n",
    "    \n",
    "    def create_conv_layer(self, architecture):\n",
    "        layers = []\n",
    "        in_channels = self.in_channels\n",
    "        \n",
    "        for x in architecture:\n",
    "            if type(x) == int:\n",
    "                out_channels = x\n",
    "                \n",
    "                layers += [nn.Conv2d(in_channels=in_channels, out_channels=out_channels,kernel_size=(3,3),stride=(1,1),padding=(1,1)),\n",
    "                nn.BatchNorm2d(x),\n",
    "                nn.ReLU()]\n",
    "                \n",
    "                in_channels = x\n",
    "                \n",
    "            elif x == 'M':\n",
    "                layers += [nn.MaxPool2d(kernel_size=(2,2),stride=(2,2))]\n",
    "                \n",
    "        return nn.Sequential(*layers)"
   ]
  },
  {
   "cell_type": "code",
   "execution_count": 24,
   "id": "28be8700-bfa6-4727-aa79-57fb11899c1a",
   "metadata": {},
   "outputs": [
    {
     "data": {
      "text/plain": [
       "torch.return_types.max(\n",
       "values=tensor([0.7108], grad_fn=<MaxBackward0>),\n",
       "indices=tensor([814]))"
      ]
     },
     "execution_count": 24,
     "metadata": {},
     "output_type": "execute_result"
    }
   ],
   "source": [
    "model = VGG_net(in_channels=3, num_classes = 1000)\n",
    "x = torch.randn(1,3,224,224)\n",
    "pred = model(x)\n",
    "pred.max(1)"
   ]
  },
  {
   "cell_type": "code",
   "execution_count": null,
   "id": "bed5c289-448f-4507-bb1a-18dccbdf191b",
   "metadata": {},
   "outputs": [],
   "source": []
  }
 ],
 "metadata": {
  "kernelspec": {
   "display_name": "Python 3 (ipykernel)",
   "language": "python",
   "name": "python3"
  },
  "language_info": {
   "codemirror_mode": {
    "name": "ipython",
    "version": 3
   },
   "file_extension": ".py",
   "mimetype": "text/x-python",
   "name": "python",
   "nbconvert_exporter": "python",
   "pygments_lexer": "ipython3",
   "version": "3.10.5"
  }
 },
 "nbformat": 4,
 "nbformat_minor": 5
}
