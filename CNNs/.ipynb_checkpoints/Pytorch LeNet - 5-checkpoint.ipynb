{
 "cells": [
  {
   "cell_type": "code",
   "execution_count": 13,
   "id": "a1223b43-084e-47a3-a8bb-b8604f565bd0",
   "metadata": {},
   "outputs": [],
   "source": [
    "import torch\n",
    "import torch.nn as nn\n",
    "from torch.utils.data import DataLoader\n",
    "import torchvision.datasets as dataset\n",
    "from torchvision import transforms\n",
    "from torch.optim import Adam\n",
    "import torch.nn.functional as F"
   ]
  },
  {
   "cell_type": "code",
   "execution_count": 9,
   "id": "7b2c25e2-0d52-4dfb-8682-186594dfb2b9",
   "metadata": {},
   "outputs": [],
   "source": [
    "class LeNet(nn.Module):\n",
    "    def __init__(self,transform=None):\n",
    "        super(LeNet,self).__init__()\n",
    "        self.relu = nn.ReLU()\n",
    "        self.pool = nn.AvgPool2d(kernel_size=(2,2),stride=(2,2))\n",
    "        self.conv1 = nn.Conv2d(in_channels=1,out_channels=6,kernel_size=(5,5),stride=(1,1),padding=(0,0))\n",
    "        self.conv2 = nn.Conv2d(in_channels=6,out_channels=16,kernel_size=(5,5),stride=(1,1),padding=(0,0))\n",
    "        self.conv3 = nn.Conv2d(in_channels=16,out_channels=120,kernel_size=(5,5),stride=(1,1),padding=(0,0))\n",
    "        self.fc1 = nn.Linear(120,84)\n",
    "        self.fc2 = nn.Linear(84,10)\n",
    "        self.transform = transform\n",
    "        \n",
    "    def forward(self,x):\n",
    "        x = self.relu(self.conv1(x))\n",
    "        x = self.pool(x)\n",
    "        x = self.relu(self.conv2(x))\n",
    "        x = self.pool(x)\n",
    "        x = self.relu(self.conv3(x))\n",
    "        x = x.reshape(x.shape[0], -1)\n",
    "        x = self.relu(self.fc1(x))\n",
    "        x = self.fc2(x)\n",
    "        \n",
    "        return x\n",
    "        \n",
    "        "
   ]
  },
  {
   "cell_type": "code",
   "execution_count": 29,
   "id": "f7b11320-a6d7-4117-9be0-8ed363ffe8ee",
   "metadata": {},
   "outputs": [],
   "source": [
    "device = torch.device('cuda:2' if torch.cuda.is_available() else 'cpu')"
   ]
  },
  {
   "cell_type": "code",
   "execution_count": 14,
   "id": "fdb9a5b0-bb8f-494c-8164-4f8e4750c4bf",
   "metadata": {},
   "outputs": [],
   "source": [
    "batch_size = 32\n",
    "input_size = (32,32)\n",
    "epochs = 5\n",
    "learning_rate = 0.001"
   ]
  },
  {
   "cell_type": "code",
   "execution_count": 7,
   "id": "31fcead6-b099-4393-ab9d-8b3615d2d2d4",
   "metadata": {},
   "outputs": [],
   "source": [
    "train_dataset = dataset.MNIST(root='dataset/', train=True, transform=transforms.Compose([transforms.Resize(input_size), transforms.ToTensor()]), download=True)\n",
    "train_dataloader = DataLoader(dataset=train_dataset, batch_size=batch_size, shuffle=True)\n",
    "test_dataset = dataset.MNIST(root='dataset/', train=False, transform=transforms.Compose([transforms.Resize(input_size), transforms.ToTensor()]), download=True)\n",
    "test_dataloader = DataLoader(dataset=test_dataset, batch_size=batch_size, shuffle=True)"
   ]
  },
  {
   "cell_type": "code",
   "execution_count": 30,
   "id": "52e9af20-73ed-42f2-b87f-5503728f837f",
   "metadata": {},
   "outputs": [],
   "source": [
    "model = LeNet().to(device)"
   ]
  },
  {
   "cell_type": "code",
   "execution_count": 31,
   "id": "e958be57-0da9-4c75-8f00-b768d7094658",
   "metadata": {},
   "outputs": [],
   "source": [
    "criterion = nn.CrossEntropyLoss()\n",
    "optimiser = Adam(model.parameters(),lr=learning_rate)"
   ]
  },
  {
   "cell_type": "code",
   "execution_count": 32,
   "id": "67925552-8ee5-46b8-a972-31f18fbcb451",
   "metadata": {},
   "outputs": [],
   "source": [
    "for epoch in range(epochs):\n",
    "    for idx, (data, targets) in enumerate(train_dataloader):\n",
    "        data = data.to(device)\n",
    "        targets = targets.to(device)\n",
    "        \n",
    "        preds = model(data)\n",
    "        \n",
    "        loss = criterion(preds, targets)\n",
    "        \n",
    "        optimiser.zero_grad()\n",
    "        loss.backward()\n",
    "        \n",
    "        optimiser.step()"
   ]
  },
  {
   "cell_type": "code",
   "execution_count": 37,
   "id": "7dff6223-4bf3-4665-b0ba-fa867a5efaa6",
   "metadata": {},
   "outputs": [],
   "source": [
    "def check_accuracy():\n",
    "    model.eval()\n",
    "    num_correct = 0\n",
    "    num_samples = 0\n",
    "    \n",
    "    with torch.no_grad():\n",
    "        for idx, (data, targets) in enumerate(test_dataloader):\n",
    "            data = data.to(device)\n",
    "            targets = targets.to(device)\n",
    "\n",
    "            preds = model(data)\n",
    "            _, predictions = preds.max(1)\n",
    "            num_correct += (predictions==targets).sum()\n",
    "            num_samples += len(preds)\n",
    "    \n",
    "    model.train()\n",
    "    \n",
    "    return num_correct/num_samples"
   ]
  },
  {
   "cell_type": "code",
   "execution_count": 38,
   "id": "635d4ceb-e78b-4ea6-b8fc-c6bb38e29c38",
   "metadata": {},
   "outputs": [
    {
     "name": "stdout",
     "output_type": "stream",
     "text": [
      "accuracy of test dataset is 0.9876999855041504\n"
     ]
    }
   ],
   "source": [
    "accuracy = check_accuracy()\n",
    "print(f\"accuracy of test dataset is {accuracy}\")"
   ]
  },
  {
   "cell_type": "code",
   "execution_count": null,
   "id": "357b3206-08ac-4da7-b9ae-a9058c55d560",
   "metadata": {},
   "outputs": [],
   "source": []
  }
 ],
 "metadata": {
  "kernelspec": {
   "display_name": "Python 3 (ipykernel)",
   "language": "python",
   "name": "python3"
  },
  "language_info": {
   "codemirror_mode": {
    "name": "ipython",
    "version": 3
   },
   "file_extension": ".py",
   "mimetype": "text/x-python",
   "name": "python",
   "nbconvert_exporter": "python",
   "pygments_lexer": "ipython3",
   "version": "3.10.5"
  }
 },
 "nbformat": 4,
 "nbformat_minor": 5
}
