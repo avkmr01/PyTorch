{
 "cells": [
  {
   "cell_type": "code",
   "execution_count": 1,
   "id": "9aab695b-f229-4df0-b0e7-d5b53f2515df",
   "metadata": {},
   "outputs": [],
   "source": [
    "import torch\n",
    "import torch.nn as nn\n",
    "import torch.optim as optim\n",
    "import torchvision.transforms as transforms\n",
    "from torch.utils.tensorboard import SummaryWriter\n",
    "from get_loader import get_loader\n",
    "from utils import make_prediction, check_accuracy, save_checkpoint, load_checkpoint\n",
    "from image_caption import CNNtoRNN\n",
    "from torchvision import models"
   ]
  },
  {
   "cell_type": "markdown",
   "id": "ca484c84-0b0f-4995-91d5-325c95da3d2e",
   "metadata": {},
   "source": [
    "__root_folder__  \n",
    "Place where images are kept \n",
    "  \n",
    "__annotation_file__  \n",
    "csv file which contains image name and corresponding caption"
   ]
  },
  {
   "cell_type": "code",
   "execution_count": 2,
   "id": "94a7baca-7aaa-4e4a-8a0a-78fd1b2bc74b",
   "metadata": {},
   "outputs": [],
   "source": [
    "def train():\n",
    "    transform = transforms.Compose(\n",
    "        [\n",
    "            transforms.Resize((356, 356)),\n",
    "            transforms.RandomCrop((299, 299)),\n",
    "            transforms.ToTensor(),\n",
    "            transforms.Normalize((0.5,0.5,0.5),(0.5,0.5,0.5))\n",
    "        ]\n",
    "    )\n",
    "    \n",
    "    train_loader, dataset = get_loader(\n",
    "        root_folder = \"flickr30k_images/flickr30k_images/\",\n",
    "        annotation_file = \"flickr30k_images/results.csv\", \n",
    "        transform = transform\n",
    "    )\n",
    "    \n",
    "    torch.backends.cudnn.benchmark = True\n",
    "    device = torch.device('cuda:3')\n",
    "    load_model = False\n",
    "    save_model = True\n",
    "    \n",
    "    #Hyperparameters\n",
    "    embed_size = 256\n",
    "    hidden_size =256\n",
    "    vocab_size = len(dataset.vocab)\n",
    "    num_layers = 1\n",
    "    learning_rate = 3e-4\n",
    "    epochs = 100\n",
    "    \n",
    "    # for tensorboard\n",
    "    writer = SummaryWriter('runs/flickr30')\n",
    "    step = 0\n",
    "    \n",
    "    #initialize model etc\n",
    "    model = CNNtoRNN(embed_size, hidden_size, vocab_size, num_layers).to(device)\n",
    "    criterion = nn.CrossEntropyLoss(ignore_index=dataset.vocab.stoi[\"<PAD>\"])\n",
    "    optimizer = optim.Adam(model.parameters(), lr=learning_rate)\n",
    "    \n",
    "    if load_model:\n",
    "        step = load_checkpoint(torch.load(\"mycheckpoint.pyh.tar\"),model, optimizer)\n",
    "        \n",
    "    model.train()\n",
    "    \n",
    "    for epoch in range(epochs):\n",
    "        if save_model:\n",
    "            checkpoint = {\n",
    "                \"state_dict\" : model.state_dict(),\n",
    "                \"optimizer\" : optimizer.state_dict(),\n",
    "                \"step\" : step\n",
    "            }\n",
    "            \n",
    "        for idx, (imgs, captions) in enumerate(train_loader):\n",
    "            imgs = imgs.to(device)\n",
    "            captions = captions.to(device)\n",
    "            \n",
    "            outputs = model(imgs, captions[:-1])\n",
    "            loss = criterion(outputs.reshape(-1, outputs.shape[2]), captions.reshape(-1))\n",
    "            \n",
    "            writer.add_scalar(\"Training loss : \", loss.item(), global_step=step )\n",
    "            step += 1\n",
    "            \n",
    "            optimizer.zero_grad()\n",
    "            loss.backward(loss)\n",
    "            optimizer.step()\n",
    "            "
   ]
  },
  {
   "cell_type": "code",
   "execution_count": null,
   "id": "2fe65ae6-46a9-47cc-ad01-d0eba1472047",
   "metadata": {},
   "outputs": [],
   "source": [
    "train()"
   ]
  }
 ],
 "metadata": {
  "kernelspec": {
   "display_name": "Python 3 (ipykernel)",
   "language": "python",
   "name": "python3"
  },
  "language_info": {
   "codemirror_mode": {
    "name": "ipython",
    "version": 3
   },
   "file_extension": ".py",
   "mimetype": "text/x-python",
   "name": "python",
   "nbconvert_exporter": "python",
   "pygments_lexer": "ipython3",
   "version": "3.10.5"
  }
 },
 "nbformat": 4,
 "nbformat_minor": 5
}
