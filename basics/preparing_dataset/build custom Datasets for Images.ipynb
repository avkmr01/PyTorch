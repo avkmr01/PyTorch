{
 "cells": [
  {
   "cell_type": "code",
   "execution_count": null,
   "id": "dadfa9d3-dbcd-47c3-85f4-9afba3cc7187",
   "metadata": {},
   "outputs": [],
   "source": [
    "# imports\n",
    "import torch\n",
    "import torch.nn as nn\n",
    "import torch.optim as optim\n",
    "import torch.nn.functional as F\n",
    "from torch.utils.data import DataLoader\n",
    "import torchvision.datasets as datasetsS\n",
    "import torchvision.transforms as transforms\n",
    "import torchvision\n",
    "from customDatasets import CatsAndDogsDataset"
   ]
  },
  {
   "cell_type": "code",
   "execution_count": null,
   "id": "8c0e1121-dd9f-43a4-b561-0aebed7de0e6",
   "metadata": {},
   "outputs": [],
   "source": [
    "# creted normal pass neural network\n",
    "class Identity(nn.Module):\n",
    "    def __init__(self):\n",
    "        super(Identity, self).__init__()\n",
    "        \n",
    "    def forward(self, x):\n",
    "        return x"
   ]
  },
  {
   "cell_type": "code",
   "execution_count": null,
   "id": "1025b3f8-f320-4918-975b-b7293d56a954",
   "metadata": {},
   "outputs": [],
   "source": [
    "# select device\n",
    "device = torch.device('cuda:3' if torch.cuda.is_available() else 'cpu')"
   ]
  },
  {
   "cell_type": "code",
   "execution_count": null,
   "id": "e6c3700f-94a5-4464-bb47-b48cda2e6514",
   "metadata": {},
   "outputs": [],
   "source": [
    "# hyperparameters\n",
    "num_classes = 10\n",
    "learning_rate = 0.001\n",
    "batch_size = 64\n",
    "num_epochs = 5"
   ]
  },
  {
   "cell_type": "code",
   "execution_count": null,
   "id": "13952e68-7442-4753-8cfa-0beb6a42f90a",
   "metadata": {},
   "outputs": [],
   "source": [
    "# prparing custom datasets\n",
    "# import pandas as pd\n",
    "# import os\n",
    "# import numpy as np\n",
    "# allList = os.listdir(r'./cats_dogs_data/train')\n",
    "# catList = [i for i in allList if i[0:3]=='cat']\n",
    "# print(len(catList))\n",
    "# dogList = np.array(list(set(allList)-set(catList)))\n",
    "# print(type(dogList))\n",
    "\n",
    "# catLabel = np.zeros(len(catList))\n",
    "# dogLabel = np.ones(len(dogList))\n",
    "\n",
    "# path = np.append(catList,dogList)\n",
    "# label = np.append(catLabel,dogLabel).astype('int')\n",
    "\n",
    "# data = pd.DataFrame({'path':path, 'label':label})\n",
    "# data.to_csv(r'./cats_dogs_data/train.csv', index=False)"
   ]
  },
  {
   "cell_type": "code",
   "execution_count": null,
   "id": "b94f3d14-4cdf-43ad-ab72-2c5218b231ee",
   "metadata": {},
   "outputs": [],
   "source": [
    "# building custom datasets\n",
    "dataset = CatsAndDogsDataset('your_csv', \n",
    "                             'folder_path', \n",
    "                             transform=transforms.Compose(\n",
    "                                 [transforms.ToTensor(), \n",
    "                                  transforms.Resize((224,224))]))\n",
    "\n",
    "train_set, test_set = torch.utils.data.random_split(\n",
    "                                                    dataset=dataset, \n",
    "                                                    lengths=[int(0.8*len(dataset)), int(0.2*len(dataset))]\n",
    "                                                   )\n",
    "\n",
    "train_loader = DataLoader(dataset=train_set, batch_size=batch_size, shuffle=True)                      \n",
    "test_loader = DataLoader(dataset=test_set, batch_size=batch_size, shuffle=True)"
   ]
  },
  {
   "cell_type": "code",
   "execution_count": null,
   "id": "9843cc87-0ba8-4701-a553-cbb3aa42196e",
   "metadata": {},
   "outputs": [],
   "source": [
    "# initialize network\n",
    "model = torchvision.models.vgg16(pretrained=True,)\n",
    "model.features[0] = nn.Conv2d(in_channels=3, out_channels=64, kernel_size=(3, 3), stride=(1, 1), padding=(1, 1), )\n",
    "model.avgpool = Identity()\n",
    "model.classifier[6] = nn.Linear(in_features=4096, out_features=2, bias=True)\n",
    "model = model.to(device)"
   ]
  },
  {
   "cell_type": "code",
   "execution_count": null,
   "id": "0c829f07-00ea-4c27-9629-82f2fad47fb6",
   "metadata": {},
   "outputs": [],
   "source": [
    "# loss and optimizer\n",
    "criterion = nn.CrossEntropyLoss()\n",
    "optimizer = optim.Adam(model.parameters(), lr=learning_rate)"
   ]
  },
  {
   "cell_type": "code",
   "execution_count": null,
   "id": "9549c8e1-b1de-4cb3-9b18-4ebc621afdc7",
   "metadata": {},
   "outputs": [],
   "source": [
    "# train network\n",
    "for epoch in range(num_epochs):\n",
    "    for batch_idx, (data, targets) in enumerate(train_loader):\n",
    "        # get data to cuda if possible\n",
    "        data = data.to(device=device)           # for FCN, CNN and RNN\n",
    "        # data = data.to(device=device).squeeze(1)  # for GRU\n",
    "        \n",
    "        targets = targets.to(device=device)\n",
    "        # get to correct shape\n",
    "        # data = data.reshape(data.shape[0], -1)  # for FCN \n",
    "        \n",
    "        # forward\n",
    "        scores = model(data)\n",
    "        loss = criterion(scores, targets)\n",
    "        \n",
    "        # backward\n",
    "        optimizer.zero_grad()\n",
    "        loss.backward()\n",
    "        \n",
    "        # gradient or adam step\n",
    "        optimizer.step()"
   ]
  },
  {
   "cell_type": "code",
   "execution_count": null,
   "id": "8cc16bda-bb94-4760-9a87-fb9c263c5575",
   "metadata": {},
   "outputs": [],
   "source": [
    "# check accuracy in training and test to see how good our model is\n",
    "def check_accuracy(loader, model):\n",
    "    num_correct = 0\n",
    "    num_samples = 0\n",
    "    model.eval()\n",
    "    \n",
    "    with torch.no_grad():\n",
    "        for x, y in loader:\n",
    "            x = x.to(device = device)            \n",
    "            y = y.to(device = device)\n",
    "            \n",
    "            scores = model(x)\n",
    "            \n",
    "            _, predictions = scores.max(1)\n",
    "            num_correct += (predictions == y).sum()\n",
    "            num_samples += predictions.size(0)\n",
    "        print(f'accuracy is {float(num_correct)*100/float(num_samples):.2f}')\n",
    "    \n",
    "    model.train()"
   ]
  },
  {
   "cell_type": "code",
   "execution_count": null,
   "id": "6aa71b6b-c09d-46bb-aaa9-547f3eac658e",
   "metadata": {},
   "outputs": [],
   "source": [
    "check_accuracy(test_loader, model)"
   ]
  }
 ],
 "metadata": {
  "kernelspec": {
   "display_name": "Python 3 (ipykernel)",
   "language": "python",
   "name": "python3"
  },
  "language_info": {
   "codemirror_mode": {
    "name": "ipython",
    "version": 3
   },
   "file_extension": ".py",
   "mimetype": "text/x-python",
   "name": "python",
   "nbconvert_exporter": "python",
   "pygments_lexer": "ipython3",
   "version": "3.10.5"
  }
 },
 "nbformat": 4,
 "nbformat_minor": 5
}
