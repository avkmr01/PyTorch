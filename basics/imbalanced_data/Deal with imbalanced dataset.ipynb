{
 "cells": [
  {
   "cell_type": "code",
   "execution_count": 1,
   "id": "1229a68e-96ca-4902-997b-0043254e7af7",
   "metadata": {},
   "outputs": [],
   "source": [
    "import torch \n",
    "import torchvision.datasets as datasets\n",
    "import os \n",
    "from torch.utils.data import WeightedRandomSampler, DataLoader\n",
    "import torchvision.transforms as transforms\n",
    "import torch.nn as nn"
   ]
  },
  {
   "cell_type": "code",
   "execution_count": null,
   "id": "aa260b7c-743e-47a4-a0c2-fe6691c23180",
   "metadata": {},
   "outputs": [],
   "source": [
    "loss_fn = nn.CrossEntropyLoss(weight=torch.tensor([1,50]))"
   ]
  },
  {
   "cell_type": "code",
   "execution_count": 15,
   "id": "bf4d7d53-c359-4d0e-a1cf-d39f46fe26b6",
   "metadata": {},
   "outputs": [],
   "source": [
    "def get_loader(root_dir, batch_size):\n",
    "    my_transforms = transforms.Compose(\n",
    "        [\n",
    "            transforms.Resize((224,224)),\n",
    "            transforms.ToTensor(),\n",
    "        ]\n",
    "    )\n",
    "    \n",
    "    dataset = datasets.ImageFolder(root=root_dir, transform=my_transforms)\n",
    "    class_weights = []\n",
    "    for root, subdir, files in os.walk(root_dir):\n",
    "        if(len(files)) > 0:\n",
    "            class_weights.append(1/len(files))\n",
    "    sample_weights = [0]*len(dataset)\n",
    "    \n",
    "    for idx, (data, label) in enumerate(dataset):\n",
    "        class_weight = class_weights[label]\n",
    "        sample_weights[idx] = class_weight\n",
    "        \n",
    "    sampler = WeightedRandomSampler(sample_weights, num_samples=len(sample_weights), replacement=True)\n",
    "    \n",
    "    loader = DataLoader(dataset=dataset, batch_size=batch_size, sampler=sampler)\n",
    "    \n",
    "    return loader"
   ]
  },
  {
   "cell_type": "markdown",
   "id": "40229c5a-87b5-4eba-81c6-fa1bf9ebb39c",
   "metadata": {},
   "source": [
    "__folder_path structure__  \n",
    "    \n",
    "Main Folder (\"folder_path\")  \n",
    "|-Class 1  \n",
    "|-Class 2  \n",
    "|-Class 3  \n",
    "|-  __...__  "
   ]
  },
  {
   "cell_type": "code",
   "execution_count": 16,
   "id": "3bb63e17-1a5c-4b40-8310-b3c3b610706f",
   "metadata": {},
   "outputs": [],
   "source": [
    "def main():\n",
    "    loader = get_loader(root_dir=\"folder_path\", batch_size=8)\n",
    "    for data, label in loader:\n",
    "        print(label)"
   ]
  },
  {
   "cell_type": "code",
   "execution_count": 17,
   "id": "513d93fb-8e6b-42f1-9ef7-42ff9d6e5b95",
   "metadata": {},
   "outputs": [
    {
     "name": "stdout",
     "output_type": "stream",
     "text": [
      "tensor([0, 1, 0, 1, 1, 0, 0, 0])\n",
      "tensor([0, 0, 0, 0, 0, 0, 1, 0])\n",
      "tensor([1, 1, 1, 0, 1, 0, 1, 0])\n",
      "tensor([1, 1, 1, 1, 0, 0, 0, 0])\n",
      "tensor([0, 1, 1, 0, 1, 0, 1, 1])\n",
      "tensor([1, 1, 0, 1, 0, 0, 1, 0])\n",
      "tensor([0, 0, 0, 0, 0, 0, 1, 0])\n",
      "tensor([1, 0, 1, 1])\n"
     ]
    }
   ],
   "source": [
    "if __name__ == \"__main__\":\n",
    "    main()"
   ]
  },
  {
   "cell_type": "code",
   "execution_count": null,
   "id": "9593e8cc-72ef-4916-b422-b54dc457b192",
   "metadata": {},
   "outputs": [],
   "source": []
  }
 ],
 "metadata": {
  "kernelspec": {
   "display_name": "Python 3 (ipykernel)",
   "language": "python",
   "name": "python3"
  },
  "language_info": {
   "codemirror_mode": {
    "name": "ipython",
    "version": 3
   },
   "file_extension": ".py",
   "mimetype": "text/x-python",
   "name": "python",
   "nbconvert_exporter": "python",
   "pygments_lexer": "ipython3",
   "version": "3.10.5"
  }
 },
 "nbformat": 4,
 "nbformat_minor": 5
}
