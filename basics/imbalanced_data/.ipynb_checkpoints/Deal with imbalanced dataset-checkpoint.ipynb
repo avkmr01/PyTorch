{
 "cells": [
  {
   "cell_type": "code",
   "execution_count": 1,
   "id": "1229a68e-96ca-4902-997b-0043254e7af7",
   "metadata": {},
   "outputs": [],
   "source": [
    "import torch \n",
    "import torchvision.datasets as datasets\n",
    "import os \n",
    "from torch.utils.data import WeightedRandomSampler, DataLoader\n",
    "import torchvision.transforms as transforms\n",
    "import torch.nn as nn"
   ]
  },
  {
   "cell_type": "code",
   "execution_count": null,
   "id": "aa260b7c-743e-47a4-a0c2-fe6691c23180",
   "metadata": {},
   "outputs": [],
   "source": [
    "loss_fn = nn.CrossEntropyLoss(weight=torch.tensor([1,50]))"
   ]
  },
  {
   "cell_type": "code",
   "execution_count": 8,
   "id": "7a84f800-3bb1-4123-a804-7a4db64946d0",
   "metadata": {},
   "outputs": [
    {
     "name": "stdout",
     "output_type": "stream",
     "text": [
      "<PIL.Image.Image image mode=RGB size=500x374 at 0x7FC042E69780>\n",
      "0\n",
      "<PIL.Image.Image image mode=RGB size=300x280 at 0x7FC04328A2C0>\n",
      "0\n",
      "<PIL.Image.Image image mode=RGB size=489x499 at 0x7FC042155180>\n",
      "0\n",
      "<PIL.Image.Image image mode=RGB size=403x499 at 0x7FC1AC6E18D0>\n",
      "0\n",
      "<PIL.Image.Image image mode=RGB size=150x149 at 0x7FC04328A2C0>\n",
      "0\n",
      "<PIL.Image.Image image mode=RGB size=431x359 at 0x7FC043139390>\n",
      "0\n",
      "<PIL.Image.Image image mode=RGB size=500x374 at 0x7FC1AC6E18D0>\n",
      "0\n",
      "<PIL.Image.Image image mode=RGB size=499x471 at 0x7FC042155180>\n",
      "0\n",
      "<PIL.Image.Image image mode=RGB size=499x375 at 0x7FC043139390>\n",
      "0\n",
      "<PIL.Image.Image image mode=RGB size=320x239 at 0x7FC04328A2C0>\n",
      "0\n",
      "<PIL.Image.Image image mode=RGB size=281x299 at 0x7FC042155180>\n",
      "1\n",
      "<PIL.Image.Image image mode=RGB size=499x375 at 0x7FC043139390>\n",
      "1\n"
     ]
    }
   ],
   "source": [
    "# root_dir = r'cat_dogs_imbalanced/' \n",
    "# datasetsdemo = datasets.ImageFolder(root=root_dir)\n",
    "# for idx, (data, label) in enumerate(datasetsdemo):\n",
    "#     print(data)\n",
    "#     print(label)\n",
    "#     if idx == 11:\n",
    "#         break"
   ]
  },
  {
   "cell_type": "code",
   "execution_count": 15,
   "id": "bf4d7d53-c359-4d0e-a1cf-d39f46fe26b6",
   "metadata": {},
   "outputs": [],
   "source": [
    "def get_loader(root_dir, batch_size):\n",
    "    my_transforms = transforms.Compose(\n",
    "        [\n",
    "            transforms.Resize((224,224)),\n",
    "            transforms.ToTensor(),\n",
    "        ]\n",
    "    )\n",
    "    \n",
    "    dataset = datasets.ImageFolder(root=root_dir, transform=my_transforms)\n",
    "    class_weights = []\n",
    "    for root, subdir, files in os.walk(root_dir):\n",
    "        if(len(files)) > 0:\n",
    "            class_weights.append(1/len(files))\n",
    "    sample_weights = [0]*len(dataset)\n",
    "    \n",
    "    for idx, (data, label) in enumerate(dataset):\n",
    "        class_weight = class_weights[label]\n",
    "        sample_weights[idx] = class_weight\n",
    "        \n",
    "    sampler = WeightedRandomSampler(sample_weights, num_samples=len(sample_weights), replacement=True)\n",
    "    \n",
    "    loader = DataLoader(dataset=dataset, batch_size=batch_size, sampler=sampler)\n",
    "    \n",
    "    return loader"
   ]
  },
  {
   "cell_type": "code",
   "execution_count": 16,
   "id": "3bb63e17-1a5c-4b40-8310-b3c3b610706f",
   "metadata": {},
   "outputs": [],
   "source": [
    "def main():\n",
    "    loader = get_loader(root_dir=\"cat_dogs_imbalanced\", batch_size=8)\n",
    "    \n",
    "    for data, label in loader:\n",
    "        print(label)"
   ]
  },
  {
   "cell_type": "code",
   "execution_count": 17,
   "id": "513d93fb-8e6b-42f1-9ef7-42ff9d6e5b95",
   "metadata": {},
   "outputs": [
    {
     "name": "stdout",
     "output_type": "stream",
     "text": [
      "tensor([0, 1, 0, 1, 1, 0, 0, 0])\n",
      "tensor([0, 0, 0, 0, 0, 0, 1, 0])\n",
      "tensor([1, 1, 1, 0, 1, 0, 1, 0])\n",
      "tensor([1, 1, 1, 1, 0, 0, 0, 0])\n",
      "tensor([0, 1, 1, 0, 1, 0, 1, 1])\n",
      "tensor([1, 1, 0, 1, 0, 0, 1, 0])\n",
      "tensor([0, 0, 0, 0, 0, 0, 1, 0])\n",
      "tensor([1, 0, 1, 1])\n"
     ]
    }
   ],
   "source": [
    "if __name__ == \"__main__\":\n",
    "    main()"
   ]
  },
  {
   "cell_type": "code",
   "execution_count": null,
   "id": "9593e8cc-72ef-4916-b422-b54dc457b192",
   "metadata": {},
   "outputs": [],
   "source": []
  }
 ],
 "metadata": {
  "kernelspec": {
   "display_name": "Python 3 (ipykernel)",
   "language": "python",
   "name": "python3"
  },
  "language_info": {
   "codemirror_mode": {
    "name": "ipython",
    "version": 3
   },
   "file_extension": ".py",
   "mimetype": "text/x-python",
   "name": "python",
   "nbconvert_exporter": "python",
   "pygments_lexer": "ipython3",
   "version": "3.10.5"
  }
 },
 "nbformat": 4,
 "nbformat_minor": 5
}
