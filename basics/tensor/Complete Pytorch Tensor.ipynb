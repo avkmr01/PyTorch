{
 "cells": [
  {
   "cell_type": "code",
   "execution_count": 2,
   "id": "6b206223-43e0-42d3-8979-515f3f9fcfd5",
   "metadata": {},
   "outputs": [],
   "source": [
    "import torch\n",
    "import numpy as np"
   ]
  },
  {
   "cell_type": "code",
   "execution_count": 2,
   "id": "9026e9be-cf88-43eb-b778-aa74281b34f9",
   "metadata": {},
   "outputs": [],
   "source": [
    "device = \"cuda\" if torch.cuda.is_available() else \"cpu\""
   ]
  },
  {
   "cell_type": "code",
   "execution_count": 9,
   "id": "9b89a683-8ea9-4441-a210-35dcefbe8863",
   "metadata": {},
   "outputs": [
    {
     "name": "stdout",
     "output_type": "stream",
     "text": [
      "tensor([[0., 1., 2.],\n",
      "        [3., 4., 5.]], device='cuda:0', requires_grad=True)\n",
      "cuda:0\n",
      "torch.float32\n",
      "True\n"
     ]
    }
   ],
   "source": [
    "a = torch.tensor([[0,1,2],[3,4,5]], dtype=torch.float, device=device, requires_grad=True)\n",
    "print(a, a.device, a.dtype, a.requires_grad, sep='\\n')"
   ]
  },
  {
   "cell_type": "code",
   "execution_count": 11,
   "id": "a0140c62-10ee-413b-b0f0-42ebce2c32d8",
   "metadata": {},
   "outputs": [
    {
     "data": {
      "text/plain": [
       "tensor([[-5.2497e+24,  3.0802e-41, -5.3079e+24],\n",
       "        [ 3.0802e-41,  1.1210e-43,  0.0000e+00],\n",
       "        [ 8.9683e-44,  0.0000e+00, -5.2479e+24]])"
      ]
     },
     "execution_count": 11,
     "metadata": {},
     "output_type": "execute_result"
    }
   ],
   "source": [
    "x1 = torch.empty(size=(3,3))\n",
    "x1"
   ]
  },
  {
   "cell_type": "code",
   "execution_count": 13,
   "id": "67279bb9-e8a9-4139-8676-d272f47f5196",
   "metadata": {},
   "outputs": [
    {
     "data": {
      "text/plain": [
       "tensor([[0., 0., 0.],\n",
       "        [0., 0., 0.],\n",
       "        [0., 0., 0.]])"
      ]
     },
     "execution_count": 13,
     "metadata": {},
     "output_type": "execute_result"
    }
   ],
   "source": [
    "x2 = torch.zeros(size=(3,3))\n",
    "x2"
   ]
  },
  {
   "cell_type": "code",
   "execution_count": 15,
   "id": "8fc13e4b-fe12-4f83-905c-f0c884adffbf",
   "metadata": {},
   "outputs": [
    {
     "data": {
      "text/plain": [
       "tensor([[1., 1., 1.],\n",
       "        [1., 1., 1.],\n",
       "        [1., 1., 1.]])"
      ]
     },
     "execution_count": 15,
     "metadata": {},
     "output_type": "execute_result"
    }
   ],
   "source": [
    "x3 = torch.ones(size=(3,3))\n",
    "x3"
   ]
  },
  {
   "cell_type": "code",
   "execution_count": 22,
   "id": "4158b67c-eee5-4d04-a935-0fd3149d93df",
   "metadata": {},
   "outputs": [
    {
     "data": {
      "text/plain": [
       "tensor([[1., 0., 0., 0., 0., 0., 0.],\n",
       "        [0., 1., 0., 0., 0., 0., 0.],\n",
       "        [0., 0., 1., 0., 0., 0., 0.],\n",
       "        [0., 0., 0., 1., 0., 0., 0.],\n",
       "        [0., 0., 0., 0., 1., 0., 0.]])"
      ]
     },
     "execution_count": 22,
     "metadata": {},
     "output_type": "execute_result"
    }
   ],
   "source": [
    "x4 = torch.eye(5,7)\n",
    "x4"
   ]
  },
  {
   "cell_type": "code",
   "execution_count": 23,
   "id": "80269881-476c-4515-a235-21f697292bd4",
   "metadata": {},
   "outputs": [
    {
     "data": {
      "text/plain": [
       "tensor([0, 2, 4, 6, 8])"
      ]
     },
     "execution_count": 23,
     "metadata": {},
     "output_type": "execute_result"
    }
   ],
   "source": [
    "x5 = torch.arange(start=0,end=10,step=2)\n",
    "x5"
   ]
  },
  {
   "cell_type": "code",
   "execution_count": 27,
   "id": "e6d01225-c60b-49a7-8ba2-2973f972cba1",
   "metadata": {},
   "outputs": [
    {
     "data": {
      "text/plain": [
       "tensor([0.0000, 0.0286, 0.0571, 0.0857, 0.1143, 0.1429, 0.1714, 0.2000])"
      ]
     },
     "execution_count": 27,
     "metadata": {},
     "output_type": "execute_result"
    }
   ],
   "source": [
    "x6 = torch.linspace(start=0,end=0.2,steps=8)\n",
    "x6"
   ]
  },
  {
   "cell_type": "code",
   "execution_count": 77,
   "id": "6fbc5568-e95d-4ff3-b3fe-424fe59e593e",
   "metadata": {},
   "outputs": [
    {
     "data": {
      "text/plain": [
       "(tensor(3.4844),\n",
       " tensor(1.8750),\n",
       " tensor([[ 5.1949,  3.9541,  4.6724,  3.3953,  3.5348,  5.1958,  3.7845,  3.8603,\n",
       "           2.9479,  3.4566],\n",
       "         [ 1.5533,  0.1618,  5.1379,  0.5448, -0.0188,  6.5393,  2.4706,  4.5860,\n",
       "           6.2634,  2.4520]]))"
      ]
     },
     "execution_count": 77,
     "metadata": {},
     "output_type": "execute_result"
    }
   ],
   "source": [
    "x7 = torch.empty(size=(2,10)).normal_(mean=4,std=2)\n",
    "x7.mean(),x7.std(),x7"
   ]
  },
  {
   "cell_type": "code",
   "execution_count": 79,
   "id": "cecbc502-f19b-4361-b804-3f67e9ae1851",
   "metadata": {},
   "outputs": [
    {
     "data": {
      "text/plain": [
       "tensor([[ 1.9898,  0.9923,  0.0029, -1.9842, -0.9551, -1.6242,  0.8517, -0.0054,\n",
       "         -0.3363,  0.2630],\n",
       "        [-1.4080,  1.6032, -1.9522,  0.2635,  1.3755,  0.1874,  0.2651,  0.2148,\n",
       "         -0.2131,  0.9982]])"
      ]
     },
     "execution_count": 79,
     "metadata": {},
     "output_type": "execute_result"
    }
   ],
   "source": [
    "x8 = torch.empty(size=(2,10)).uniform_(-2,2)\n",
    "x8"
   ]
  },
  {
   "cell_type": "code",
   "execution_count": 65,
   "id": "96ba62cd-8e1e-4470-a2c9-72ccc03bd5c4",
   "metadata": {},
   "outputs": [
    {
     "data": {
      "text/plain": [
       "tensor([[ 7.2686,  0.0000,  0.0000],\n",
       "        [ 0.0000,  7.9346,  0.0000],\n",
       "        [ 0.0000,  0.0000, 14.2277]])"
      ]
     },
     "execution_count": 65,
     "metadata": {},
     "output_type": "execute_result"
    }
   ],
   "source": [
    "x9 = torch.diag(torch.randn(3).normal_(mean=10,std=2))\n",
    "x9"
   ]
  },
  {
   "cell_type": "code",
   "execution_count": 85,
   "id": "eaafcb18-70df-483f-b52f-8048fe49f157",
   "metadata": {},
   "outputs": [
    {
     "data": {
      "text/plain": [
       "(tensor([False,  True,  True,  True]),\n",
       " tensor([0, 1, 2, 3], dtype=torch.int16),\n",
       " tensor([0, 1, 2, 3]),\n",
       " tensor([0., 1., 2., 3.], dtype=torch.float16),\n",
       " tensor([0., 1., 2., 3.]),\n",
       " tensor([0., 1., 2., 3.], dtype=torch.float64),\n",
       " tensor([0, 1, 2, 3]))"
      ]
     },
     "execution_count": 85,
     "metadata": {},
     "output_type": "execute_result"
    }
   ],
   "source": [
    "tensor = torch.arange(0,4)\n",
    "tensor.bool(), tensor.short(), tensor.long(), tensor.half(), tensor.float(), tensor.double(), tensor"
   ]
  },
  {
   "cell_type": "code",
   "execution_count": 91,
   "id": "a41eea3a-a7fe-422d-947c-93613e50827a",
   "metadata": {},
   "outputs": [
    {
     "name": "stdout",
     "output_type": "stream",
     "text": [
      "tensor([[0., 0., 0., 0., 0.],\n",
      "        [0., 0., 0., 0., 0.],\n",
      "        [0., 0., 0., 0., 0.],\n",
      "        [0., 0., 0., 0., 0.],\n",
      "        [0., 0., 0., 0., 0.]], dtype=torch.float64)\n",
      "[[0. 0. 0. 0. 0.]\n",
      " [0. 0. 0. 0. 0.]\n",
      " [0. 0. 0. 0. 0.]\n",
      " [0. 0. 0. 0. 0.]\n",
      " [0. 0. 0. 0. 0.]]\n"
     ]
    }
   ],
   "source": [
    "numpy_array = np.zeros((5,5))\n",
    "tensor = torch.from_numpy(numpy_array)\n",
    "print(tensor)\n",
    "back_to_numpy = tensor.numpy()\n",
    "print(back_to_numpy)"
   ]
  },
  {
   "cell_type": "code",
   "execution_count": 130,
   "id": "7e1b47ae-430d-4815-a333-04df94336bc6",
   "metadata": {},
   "outputs": [
    {
     "data": {
      "text/plain": [
       "(tensor([ 4.,  8.,  6., 10., 12.]),\n",
       " tensor([ 4,  8,  6, 10, 12]),\n",
       " tensor([-2, -4,  0, -2, -2]),\n",
       " tensor([ 16,  64,  36, 100, 144]),\n",
       " tensor([ 5.3333, 10.6667, 12.0000, 16.6667, 20.5714]),\n",
       " tensor([ 5.3333, 10.6667, 12.0000, 16.6667, 20.5714]),\n",
       " tensor([ 1.6000,  6.4000,  3.6000, 10.0000, 14.4000]),\n",
       " tensor([ 1.6000,  6.4000,  3.6000, 10.0000, 14.4000]))"
      ]
     },
     "execution_count": 130,
     "metadata": {},
     "output_type": "execute_result"
    }
   ],
   "source": [
    "x = torch.tensor([1,2,3,4,5])\n",
    "x1 = x\n",
    "y = torch.tensor([3,6,3,6,7])\n",
    "y1 = y\n",
    "A = torch.tensor(10)\n",
    "z1 = torch.empty(5)\n",
    "\n",
    "torch.add(x,y,out=z1)\n",
    "z2 = x+y\n",
    "z3 = x-y\n",
    "x1.add_(y1)\n",
    "x1.pow_(2)\n",
    "z4 = torch.true_divide(x,y)\n",
    "z5 = torch.divide(x,y)\n",
    "z6 = torch.true_divide(x,A)\n",
    "z7 = torch.divide(x,A)\n",
    "z1, z2, z3, x1, z4, z5, z6, z7"
   ]
  },
  {
   "cell_type": "code",
   "execution_count": 134,
   "id": "7f129735-b2f5-4584-a160-489ec142f6b0",
   "metadata": {},
   "outputs": [
    {
     "data": {
      "text/plain": [
       "(tensor([[ 6.9678,  0.6362, -0.1467,  1.8451],\n",
       "         [-3.0308, -0.5298, -0.4531,  0.3389],\n",
       "         [ 3.3651, -0.5659,  6.5067, -1.2111]]),\n",
       " tensor([[ 6.9678,  0.6362, -0.1467,  1.8451],\n",
       "         [-3.0308, -0.5298, -0.4531,  0.3389],\n",
       "         [ 3.3651, -0.5659,  6.5067, -1.2111]]))"
      ]
     },
     "execution_count": 134,
     "metadata": {},
     "output_type": "execute_result"
    }
   ],
   "source": [
    "a = torch.randn((3,16))\n",
    "b = torch.randn((16,4))\n",
    "d = torch.mm(a,b)\n",
    "c = a.mm(b)\n",
    "c, d"
   ]
  },
  {
   "cell_type": "code",
   "execution_count": 153,
   "id": "f3bd31e9-7775-4b3f-901a-01cf1f2d7d64",
   "metadata": {},
   "outputs": [
    {
     "name": "stdout",
     "output_type": "stream",
     "text": [
      "tensor([[1., 3.],\n",
      "        [2., 4.]])\n",
      "tensor([[ 7., 15.],\n",
      "        [10., 22.]])\n",
      "tensor([[ 51.9690, 112.1049],\n",
      "        [ 74.7366, 164.0738]])\n"
     ]
    }
   ],
   "source": [
    "a = torch.tensor([[1,3],[2,4]], dtype=torch.float)\n",
    "print(a)\n",
    "b = a.matrix_power(2)\n",
    "print(b)\n",
    "c = a.matrix_exp()\n",
    "print(c)"
   ]
  },
  {
   "cell_type": "code",
   "execution_count": 157,
   "id": "525cbfa5-7ae6-4a0a-a0da-6ac2216d9617",
   "metadata": {},
   "outputs": [
    {
     "data": {
      "text/plain": [
       "(tensor([ 3, 12,  9, 24, 35]), tensor(83))"
      ]
     },
     "execution_count": 157,
     "metadata": {},
     "output_type": "execute_result"
    }
   ],
   "source": [
    "x = torch.randn([1,2,3,4,5])\n",
    "y = torch.randn([3,6,3,6,7])\n",
    "z1 = x*y\n",
    "z2 = torch.dot(x,y)\n",
    "z1, z2"
   ]
  },
  {
   "cell_type": "code",
   "execution_count": 171,
   "id": "d1dc2f69-bd02-482e-a412-07eda6e69f35",
   "metadata": {},
   "outputs": [
    {
     "data": {
      "text/plain": [
       "(tensor([[[ 1.6785, -0.4026],\n",
       "          [-0.4200,  1.3686]],\n",
       " \n",
       "         [[ 0.3584,  1.4335],\n",
       "          [ 0.0553,  0.9756]]]),\n",
       " tensor([[[-0.1553],\n",
       "          [ 1.4523]],\n",
       " \n",
       "         [[ 0.8627],\n",
       "          [-0.1188]]]),\n",
       " tensor([[[-0.8454],\n",
       "          [ 2.0528]],\n",
       " \n",
       "         [[ 0.1389],\n",
       "          [-0.0682]]]))"
      ]
     },
     "execution_count": 171,
     "metadata": {},
     "output_type": "execute_result"
    }
   ],
   "source": [
    "batch1 = 3\n",
    "batch2 = 2\n",
    "m = 2\n",
    "n = 2\n",
    "p = 1\n",
    "x = torch.randn(batch2, n, m)\n",
    "y = torch.randn(batch2, m , p)\n",
    "z1 = torch.bmm(x,y)\n",
    "x,y,z1"
   ]
  },
  {
   "cell_type": "code",
   "execution_count": 179,
   "id": "aa49ced2-eb8a-48ea-a073-5acc054c1ea7",
   "metadata": {},
   "outputs": [
    {
     "data": {
      "text/plain": [
       "(tensor([[1.2323, 2.0074],\n",
       "         [1.4471, 0.2048],\n",
       "         [0.8248, 0.6606]]),\n",
       " tensor([[[-0.3650,  0.1911],\n",
       "          [-0.0341, -1.4536],\n",
       "          [ 1.2323,  2.0074],\n",
       "          [ 1.2257,  1.1025]],\n",
       " \n",
       "         [[ 1.4471,  0.2048],\n",
       "          [ 0.4788, -0.0171],\n",
       "          [-0.5719, -0.8111],\n",
       "          [ 0.0482, -2.0185]],\n",
       " \n",
       "         [[-0.0669,  0.4838],\n",
       "          [ 0.8248,  0.6606],\n",
       "          [-0.0915, -0.7101],\n",
       "          [-1.1340,  0.5211]]]))"
      ]
     },
     "execution_count": 179,
     "metadata": {},
     "output_type": "execute_result"
    }
   ],
   "source": [
    "x = torch.randn((3,4,2))\n",
    "max_x, indices = torch.max(x, dim=1)\n",
    "max_x, x"
   ]
  },
  {
   "cell_type": "code",
   "execution_count": 183,
   "id": "cff3d7a8-511a-4acc-aba2-57ce07778a31",
   "metadata": {},
   "outputs": [
    {
     "data": {
      "text/plain": [
       "(tensor([ True,  True,  True, False, False]),\n",
       " tensor([[ 0.1643, -0.5347, -0.6297],\n",
       "         [ 0.1122, -0.1343, -0.2701]]),\n",
       " torch.return_types.sort(\n",
       " values=tensor([[ 0.1122, -0.5347, -0.6297],\n",
       "         [ 0.1643, -0.1343, -0.2701]]),\n",
       " indices=tensor([[1, 0, 0],\n",
       "         [0, 1, 1]])))"
      ]
     },
     "execution_count": 183,
     "metadata": {},
     "output_type": "execute_result"
    }
   ],
   "source": [
    "a = torch.tensor([1,2,3,4,5])\n",
    "b = torch.tensor([1,2,3,2,1])\n",
    "c = torch.randn(2,3)\n",
    "z1 = torch.eq(a,b)\n",
    "z2 = torch.sort(c,dim=0)\n",
    "\n",
    "z1, c, z2"
   ]
  },
  {
   "cell_type": "code",
   "execution_count": 190,
   "id": "88424132-0655-4858-9764-e608b25d3b77",
   "metadata": {},
   "outputs": [
    {
     "data": {
      "text/plain": [
       "(tensor([[38.3476, 17.6010, 37.2080, 39.8673,  2.6227, 39.6498, 29.0317, 17.4265,\n",
       "          32.8501,  7.7630, 34.6245, 22.9619, 19.6199,  4.7261, 26.2702, 22.6355,\n",
       "          26.6715, 24.9266, 31.2643, 35.6506]]),\n",
       " tensor([[25.0000, 17.6010, 25.0000, 25.0000, 10.0000, 25.0000, 25.0000, 17.4265,\n",
       "          25.0000, 10.0000, 25.0000, 22.9619, 19.6199, 10.0000, 25.0000, 22.6355,\n",
       "          25.0000, 24.9266, 25.0000, 25.0000]]))"
      ]
     },
     "execution_count": 190,
     "metadata": {},
     "output_type": "execute_result"
    }
   ],
   "source": [
    "x = torch.empty(size=(1,20)).uniform_(0,40)\n",
    "z = torch.clamp(x,min=10,max=25)\n",
    "x, z"
   ]
  },
  {
   "cell_type": "code",
   "execution_count": 20,
   "id": "a31fec8e-d490-465d-b019-41e968893fe9",
   "metadata": {},
   "outputs": [
    {
     "data": {
      "text/plain": [
       "(tensor([0, 1, 2, 3, 4, 5, 6, 7, 8, 9]),\n",
       " 10,\n",
       " 1,\n",
       " tensor([[0.9883, 0.4946, 0.6999, 0.8055, 0.5054],\n",
       "         [0.8765, 0.2010, 0.0027, 0.7742, 0.1388],\n",
       "         [0.9459, 0.2090, 0.0175, 0.8527, 0.7494]]),\n",
       " 15,\n",
       " 2,\n",
       " tensor([0.1388, 0.9883]),\n",
       " tensor([0, 1, 9]),\n",
       " tensor([ 0,  2,  4,  6,  8, 10,  6,  7,  8,  9]),\n",
       " tensor([[0, 1, 2, 3, 4],\n",
       "         [5, 6, 7, 8, 9]]))"
      ]
     },
     "execution_count": 20,
     "metadata": {},
     "output_type": "execute_result"
    }
   ],
   "source": [
    "x = torch.arange(10)\n",
    "y = torch.rand((3,5))\n",
    "rows = [1,0]\n",
    "cols = [4,0]\n",
    "z = x.numpy()\n",
    "z1 = x[((x<2) | (x>8))]\n",
    "z2 = torch.where(x>5, x, 2*x)\n",
    "z3 = x.view((2,5))\n",
    "x,x.numel(),x.ndimension(),y,y.numel(),y.ndimension(),y[rows,cols],z1,z2,z3\n",
    "# z[np.any(rows,cols)]"
   ]
  },
  {
   "cell_type": "code",
   "execution_count": 24,
   "id": "b224160a-f884-4d0e-81db-3e2c3143e723",
   "metadata": {},
   "outputs": [
    {
     "data": {
      "text/plain": [
       "(tensor([[0.2295, 0.5681, 0.8896, 0.9418, 0.3453],\n",
       "         [0.9747, 0.5610, 0.4171, 0.4060, 0.2502],\n",
       "         [0.0530, 0.9014, 0.8807, 0.2543, 0.6607],\n",
       "         [0.8497, 0.6310, 0.4793, 0.2032, 0.9390]]),\n",
       " tensor([0.2295, 0.5681, 0.8896, 0.9418, 0.3453, 0.9747, 0.5610, 0.4171, 0.4060,\n",
       "         0.2502, 0.0530, 0.9014, 0.8807, 0.2543, 0.6607, 0.8497, 0.6310, 0.4793,\n",
       "         0.2032, 0.9390]))"
      ]
     },
     "execution_count": 24,
     "metadata": {},
     "output_type": "execute_result"
    }
   ],
   "source": [
    "x = torch.rand((2,5))\n",
    "y = torch.rand((2,5))\n",
    "z = torch.cat((x,y),axis=0)\n",
    "z,z.reshape(-1)"
   ]
  },
  {
   "cell_type": "code",
   "execution_count": 32,
   "id": "3461e93c-0634-4422-aa33-47582c78d75c",
   "metadata": {},
   "outputs": [
    {
     "data": {
      "text/plain": [
       "(tensor([[[[[ 1.0237e+00, -3.4193e-01, -6.9026e-04],\n",
       "            [-1.7952e+00,  2.3419e+00, -9.6733e-03]]],\n",
       " \n",
       " \n",
       "          [[[-2.2300e-01, -9.5874e-01, -5.3788e-01],\n",
       "            [ 1.0572e-01, -4.3133e-01, -1.4302e+00]]],\n",
       " \n",
       " \n",
       "          [[[ 1.3937e+00,  1.6984e+00, -1.6677e+00],\n",
       "            [-1.0845e-01, -1.2998e+00, -7.4809e-01]]],\n",
       " \n",
       " \n",
       "          [[[-9.7731e-01, -8.0692e-01, -6.1020e-01],\n",
       "            [-2.6809e-01,  5.8946e-01,  6.0344e-01]]],\n",
       " \n",
       " \n",
       "          [[[-4.2582e-01,  1.3561e-01, -3.2289e-02],\n",
       "            [-1.5078e-01,  1.5257e+00, -5.4632e-01]]]]]),\n",
       " tensor([[[[[[ 1.0237e+00],\n",
       "             [-3.4193e-01],\n",
       "             [-6.9026e-04]],\n",
       " \n",
       "            [[-1.7952e+00],\n",
       "             [ 2.3419e+00],\n",
       "             [-9.6733e-03]]]],\n",
       " \n",
       " \n",
       " \n",
       "          [[[[-2.2300e-01],\n",
       "             [-9.5874e-01],\n",
       "             [-5.3788e-01]],\n",
       " \n",
       "            [[ 1.0572e-01],\n",
       "             [-4.3133e-01],\n",
       "             [-1.4302e+00]]]],\n",
       " \n",
       " \n",
       " \n",
       "          [[[[ 1.3937e+00],\n",
       "             [ 1.6984e+00],\n",
       "             [-1.6677e+00]],\n",
       " \n",
       "            [[-1.0845e-01],\n",
       "             [-1.2998e+00],\n",
       "             [-7.4809e-01]]]],\n",
       " \n",
       " \n",
       " \n",
       "          [[[[-9.7731e-01],\n",
       "             [-8.0692e-01],\n",
       "             [-6.1020e-01]],\n",
       " \n",
       "            [[-2.6809e-01],\n",
       "             [ 5.8946e-01],\n",
       "             [ 6.0344e-01]]]],\n",
       " \n",
       " \n",
       " \n",
       "          [[[[-4.2582e-01],\n",
       "             [ 1.3561e-01],\n",
       "             [-3.2289e-02]],\n",
       " \n",
       "            [[-1.5078e-01],\n",
       "             [ 1.5257e+00],\n",
       "             [-5.4632e-01]]]]]]))"
      ]
     },
     "execution_count": 32,
     "metadata": {},
     "output_type": "execute_result"
    }
   ],
   "source": [
    "x = torch.randn(2, 3, 1, 5, 1)\n",
    "z1 = x.permute((2, 3, 4, 0, 1))\n",
    "\n",
    "z1, z1.unsqueeze(5), "
   ]
  },
  {
   "cell_type": "code",
   "execution_count": null,
   "id": "74634b02-d864-4172-96b7-2f8978480b85",
   "metadata": {},
   "outputs": [],
   "source": [
    "x"
   ]
  }
 ],
 "metadata": {
  "kernelspec": {
   "display_name": "Python 3 (ipykernel)",
   "language": "python",
   "name": "python3"
  },
  "language_info": {
   "codemirror_mode": {
    "name": "ipython",
    "version": 3
   },
   "file_extension": ".py",
   "mimetype": "text/x-python",
   "name": "python",
   "nbconvert_exporter": "python",
   "pygments_lexer": "ipython3",
   "version": "3.10.5"
  }
 },
 "nbformat": 4,
 "nbformat_minor": 5
}
